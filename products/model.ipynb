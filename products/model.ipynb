{
 "cells": [
  {
   "cell_type": "code",
   "execution_count": 1,
   "id": "825c7c6f",
   "metadata": {
    "execution": {
     "iopub.execute_input": "2022-11-09T22:18:42.457349Z",
     "iopub.status.busy": "2022-11-09T22:18:42.456557Z",
     "iopub.status.idle": "2022-11-09T22:18:42.466829Z",
     "shell.execute_reply": "2022-11-09T22:18:42.464639Z"
    },
    "lines_to_next_cell": 2,
    "papermill": {
     "duration": 0.032453,
     "end_time": "2022-11-09T22:18:42.475715",
     "exception": false,
     "start_time": "2022-11-09T22:18:42.443262",
     "status": "completed"
    },
    "tags": []
   },
   "outputs": [],
   "source": [
    "# Add description here\n",
    "#\n",
    "# *Note:* You can open this file as a notebook (JupyterLab: right-click on it in the side bar -> Open With -> Notebook)"
   ]
  },
  {
   "cell_type": "code",
   "execution_count": 2,
   "id": "5e083366",
   "metadata": {
    "execution": {
     "iopub.execute_input": "2022-11-09T22:18:42.500403Z",
     "iopub.status.busy": "2022-11-09T22:18:42.499697Z",
     "iopub.status.idle": "2022-11-09T22:18:42.509656Z",
     "shell.execute_reply": "2022-11-09T22:18:42.507610Z"
    },
    "papermill": {
     "duration": 0.026662,
     "end_time": "2022-11-09T22:18:42.514680",
     "exception": false,
     "start_time": "2022-11-09T22:18:42.488018",
     "status": "completed"
    },
    "tags": []
   },
   "outputs": [],
   "source": [
    "# Uncomment the next two lines to enable auto reloading for imported modules\n",
    "# %load_ext autoreload\n",
    "# %autoreload 2\n",
    "# For more info, see:\n",
    "# https://docs.ploomber.io/en/latest/user-guide/faq_index.html#auto-reloading-code-in-jupyter"
   ]
  },
  {
   "cell_type": "code",
   "execution_count": 3,
   "id": "2af14d72",
   "metadata": {
    "execution": {
     "iopub.execute_input": "2022-11-09T22:18:42.528989Z",
     "iopub.status.busy": "2022-11-09T22:18:42.528378Z",
     "iopub.status.idle": "2022-11-09T22:18:42.553925Z",
     "shell.execute_reply": "2022-11-09T22:18:42.551506Z"
    },
    "lines_to_next_cell": 2,
    "papermill": {
     "duration": 0.03846,
     "end_time": "2022-11-09T22:18:42.558960",
     "exception": false,
     "start_time": "2022-11-09T22:18:42.520500",
     "status": "completed"
    },
    "tags": [
     "parameters"
    ]
   },
   "outputs": [],
   "source": [
    "# If this task has dependencies, list them them here\n",
    "# (e.g. upstream = ['some_task']), otherwise leave as None.\n",
    "upstream = ['data_clean']\n",
    "\n",
    "# This is a placeholder, leave it as None\n",
    "product = None"
   ]
  },
  {
   "cell_type": "code",
   "execution_count": 4,
   "id": "551df5d1",
   "metadata": {
    "execution": {
     "iopub.execute_input": "2022-11-09T22:18:42.577049Z",
     "iopub.status.busy": "2022-11-09T22:18:42.576406Z",
     "iopub.status.idle": "2022-11-09T22:18:42.589799Z",
     "shell.execute_reply": "2022-11-09T22:18:42.587168Z"
    },
    "papermill": {
     "duration": 0.028211,
     "end_time": "2022-11-09T22:18:42.595053",
     "exception": false,
     "start_time": "2022-11-09T22:18:42.566842",
     "status": "completed"
    },
    "tags": [
     "injected-parameters"
    ]
   },
   "outputs": [],
   "source": [
    "# Parameters\n",
    "upstream = {\"data_clean\": {\"nb\": \"/home/sidhantk/ploomberDemo/movieDemo/products/data_clean.ipynb\", \"data\": \"/home/sidhantk/ploomberDemo/movieDemo/products/clean_data.csv\"}}\n",
    "product = {\"nb\": \"/home/sidhantk/ploomberDemo/movieDemo/products/model.ipynb\", \"train\": \"/home/sidhantk/ploomberDemo/movieDemo/products/training.csv\", \"data\": \"/home/sidhantk/ploomberDemo/movieDemo/products/movie.pickle\"}\n"
   ]
  },
  {
   "cell_type": "code",
   "execution_count": 5,
   "id": "005f8e7d",
   "metadata": {
    "execution": {
     "iopub.execute_input": "2022-11-09T22:18:42.610563Z",
     "iopub.status.busy": "2022-11-09T22:18:42.609939Z",
     "iopub.status.idle": "2022-11-09T22:18:46.155184Z",
     "shell.execute_reply": "2022-11-09T22:18:46.152801Z"
    },
    "papermill": {
     "duration": 3.558138,
     "end_time": "2022-11-09T22:18:46.159694",
     "exception": false,
     "start_time": "2022-11-09T22:18:42.601556",
     "status": "completed"
    },
    "tags": []
   },
   "outputs": [],
   "source": [
    "# your code here...import numpy as np\n",
    "import pandas as pd\n",
    "import numpy as np\n",
    "from surprise import Reader\n",
    "from surprise import KNNWithMeans\n",
    "from surprise import Dataset\n",
    "import pickle\n",
    "from surprise.model_selection import cross_validate\n",
    "from surprise import accuracy, Dataset, SVD\n",
    "from sklearn.model_selection import train_test_split\n",
    "from surprise.model_selection import GridSearchCV\n",
    "from surprise import SVD\n",
    "import pickle\n",
    "import os\n",
    "import glob"
   ]
  },
  {
   "cell_type": "code",
   "execution_count": 6,
   "id": "43c8ab74",
   "metadata": {
    "execution": {
     "iopub.execute_input": "2022-11-09T22:18:46.179837Z",
     "iopub.status.busy": "2022-11-09T22:18:46.178534Z",
     "iopub.status.idle": "2022-11-09T22:18:46.198796Z",
     "shell.execute_reply": "2022-11-09T22:18:46.196579Z"
    },
    "papermill": {
     "duration": 0.036219,
     "end_time": "2022-11-09T22:18:46.203179",
     "exception": false,
     "start_time": "2022-11-09T22:18:46.166960",
     "status": "completed"
    },
    "tags": []
   },
   "outputs": [],
   "source": [
    "def process_data(dirname):\n",
    "    # current_path = os.getcwd()\n",
    "    # os.chdir(dirname)\n",
    "    # extension = 'csv'\n",
    "    # all_filenames = [i for i in glob.glob('watched_rated*.{}'.format(extension))]\n",
    "    # movie_df_csv = pd.concat([pd.read_csv(f) for f in all_filenames ])\n",
    "    movie_df_csv = pd.read_csv (dirname)\n",
    "    # movie_df_csv = dirname\n",
    "    # os.chdir(current_path)\n",
    "    movie_df_csv.to_csv(product['train'], index=False, encoding='utf-8-sig')\n",
    "    df_sub = movie_df_csv[['userid','movieid','rating']]\n",
    "    train, test = train_test_split(df_sub, test_size=0.2)\n",
    "#    os.path.join( os.path.dirname(os.getcwd()), '..' )\n",
    "    print(\"Done with train test split\")\n",
    "    return train,test\n",
    "\n",
    "def load(train,test):\n",
    "    reader = Reader(rating_scale=(1, 5))    \n",
    "    data_train = Dataset.load_from_df(train[['userid','movieid','rating']], reader)\n",
    "    trainingSet = data_train.build_full_trainset()\n",
    "    print(\"Done Processing\")\n",
    "    return trainingSet, data_train, test"
   ]
  },
  {
   "cell_type": "code",
   "execution_count": 7,
   "id": "40a8a5eb",
   "metadata": {
    "execution": {
     "iopub.execute_input": "2022-11-09T22:18:46.220597Z",
     "iopub.status.busy": "2022-11-09T22:18:46.219420Z",
     "iopub.status.idle": "2022-11-09T22:18:46.238277Z",
     "shell.execute_reply": "2022-11-09T22:18:46.235825Z"
    },
    "papermill": {
     "duration": 0.032606,
     "end_time": "2022-11-09T22:18:46.242919",
     "exception": false,
     "start_time": "2022-11-09T22:18:46.210313",
     "status": "completed"
    },
    "tags": []
   },
   "outputs": [],
   "source": [
    "def modelling(trainingSet, data_train, test):\n",
    "   param_grid = {\n",
    "    \"n_epochs\": [5, 10],\n",
    "    \"lr_all\": [0.002, 0.005],\n",
    "    \"reg_all\": [0.4, 0.6]\n",
    "    }\n",
    "\n",
    "    # Get the best params using GridSearchCV\n",
    "   gs = GridSearchCV(SVD, param_grid, measures=[\"rmse\"], cv=4)\n",
    "   gs.fit(data_train)\n",
    "   best_params = gs.best_params[\"rmse\"]\n",
    "   print(gs.best_score[\"rmse\"])\n",
    "   print(gs.best_params[\"rmse\"])\n",
    "    \n",
    "   # Extract and train model with best params\n",
    "   svd_algo = SVD(n_epochs=best_params['n_epochs'],\n",
    "                   lr_all=best_params['lr_all'],\n",
    "                   reg_all=best_params['reg_all'])\n",
    "   svd_algo.fit(trainingSet)\n",
    "\n",
    "   predictions = []\n",
    "   actuals = []\n",
    "   rmse_val = []\n",
    "   for col, row in test.iterrows():\n",
    "       predictions.append(svd_algo.predict(row.userid, row.movieid).est)\n",
    "       actuals.append(row.rating)\n",
    "   rmse_val = rmse(np.array(predictions), np.array(actuals))\n",
    "   print(\"Test RMSE for SVD : \" + str(rmse_val))\n",
    "   print(\"Done Modelling\")\n",
    "   return svd_algo"
   ]
  },
  {
   "cell_type": "code",
   "execution_count": 8,
   "id": "ad287183",
   "metadata": {
    "execution": {
     "iopub.execute_input": "2022-11-09T22:18:46.266639Z",
     "iopub.status.busy": "2022-11-09T22:18:46.264892Z",
     "iopub.status.idle": "2022-11-09T22:18:46.279314Z",
     "shell.execute_reply": "2022-11-09T22:18:46.277114Z"
    },
    "papermill": {
     "duration": 0.029146,
     "end_time": "2022-11-09T22:18:46.283925",
     "exception": false,
     "start_time": "2022-11-09T22:18:46.254779",
     "status": "completed"
    },
    "tags": []
   },
   "outputs": [],
   "source": [
    "def model_to_binary(svd_model):\n",
    "    filename = product['data']\n",
    "    outfile = open(filename,'wb')\n",
    "    pickle.dump(svd_model,outfile)\n",
    "    outfile.close()      \n",
    "    print(\"Done Converting to Binary\")\n",
    "\n",
    "    #this function returns the root mean squared error between two arrays\n",
    "def rmse(predictions, targets):\n",
    "    return np.sqrt(((predictions - targets) ** 2).mean())\n",
    "\n",
    "def main():\n",
    "    data_dir = \"/home/sidhantk/pl/movie/watched_rated_df.csv\"\n",
    "    # data_dir = upstream['data_clean']['data']\n",
    "    train,test=process_data(data_dir)\n",
    "    trainingSet, data_train, test = load(train,test)\n",
    "    svd_model = modelling(trainingSet, data_train, test)\n",
    "    model_to_binary(svd_model)"
   ]
  },
  {
   "cell_type": "code",
   "execution_count": 9,
   "id": "53ec132d",
   "metadata": {
    "execution": {
     "iopub.execute_input": "2022-11-09T22:18:46.305291Z",
     "iopub.status.busy": "2022-11-09T22:18:46.304013Z",
     "iopub.status.idle": "2022-11-09T22:20:16.920766Z",
     "shell.execute_reply": "2022-11-09T22:20:16.918866Z"
    },
    "papermill": {
     "duration": 90.632184,
     "end_time": "2022-11-09T22:20:16.925111",
     "exception": false,
     "start_time": "2022-11-09T22:18:46.292927",
     "status": "completed"
    },
    "tags": []
   },
   "outputs": [
    {
     "name": "stdout",
     "output_type": "stream",
     "text": [
      "Done with train test split\n"
     ]
    },
    {
     "name": "stdout",
     "output_type": "stream",
     "text": [
      "Done Processing\n"
     ]
    },
    {
     "name": "stdout",
     "output_type": "stream",
     "text": [
      "0.9664637099585531\n",
      "{'n_epochs': 10, 'lr_all': 0.005, 'reg_all': 0.4}\n"
     ]
    },
    {
     "name": "stdout",
     "output_type": "stream",
     "text": [
      "Test RMSE for SVD : 0.9522654277453686\n",
      "Done Modelling\n"
     ]
    },
    {
     "name": "stdout",
     "output_type": "stream",
     "text": [
      "Done Converting to Binary\n"
     ]
    }
   ],
   "source": [
    "main()"
   ]
  },
  {
   "cell_type": "code",
   "execution_count": null,
   "id": "ae7809ec",
   "metadata": {
    "papermill": {
     "duration": 0.012455,
     "end_time": "2022-11-09T22:20:16.950819",
     "exception": false,
     "start_time": "2022-11-09T22:20:16.938364",
     "status": "completed"
    },
    "tags": []
   },
   "outputs": [],
   "source": []
  },
  {
   "cell_type": "code",
   "execution_count": null,
   "id": "3b165cc0",
   "metadata": {
    "papermill": {
     "duration": 0.007607,
     "end_time": "2022-11-09T22:20:16.972817",
     "exception": false,
     "start_time": "2022-11-09T22:20:16.965210",
     "status": "completed"
    },
    "tags": []
   },
   "outputs": [],
   "source": []
  }
 ],
 "metadata": {
  "jupytext": {
   "text_representation": {
    "extension": ".py",
    "format_name": "percent",
    "format_version": "1.3",
    "jupytext_version": "1.14.1"
   }
  },
  "kernelspec": {
   "display_name": "Python 3 (ipykernel)",
   "language": "python",
   "name": "python3"
  },
  "language_info": {
   "codemirror_mode": {
    "name": "ipython",
    "version": 3
   },
   "file_extension": ".py",
   "mimetype": "text/x-python",
   "name": "python",
   "nbconvert_exporter": "python",
   "pygments_lexer": "ipython3",
   "version": "3.8.10"
  },
  "papermill": {
   "duration": 97.313055,
   "end_time": "2022-11-09T22:20:17.632174",
   "exception": null,
   "input_path": "/tmp/tmpaza_tbcf.ipynb",
   "output_path": "/home/sidhantk/ploomberDemo/movieDemo/products/model.ipynb",
   "parameters": {
    "product": {
     "data": "/home/sidhantk/ploomberDemo/movieDemo/products/movie.pickle",
     "nb": "/home/sidhantk/ploomberDemo/movieDemo/products/model.ipynb",
     "train": "/home/sidhantk/ploomberDemo/movieDemo/products/training.csv"
    },
    "upstream": {
     "data_clean": {
      "data": "/home/sidhantk/ploomberDemo/movieDemo/products/clean_data.csv",
      "nb": "/home/sidhantk/ploomberDemo/movieDemo/products/data_clean.ipynb"
     }
    }
   },
   "start_time": "2022-11-09T22:18:40.319119"
  }
 },
 "nbformat": 4,
 "nbformat_minor": 5
}