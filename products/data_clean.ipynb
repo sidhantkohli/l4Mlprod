{
 "cells": [
  {
   "cell_type": "code",
   "execution_count": 1,
   "id": "2a146c2f",
   "metadata": {
    "execution": {
     "iopub.execute_input": "2022-11-09T22:18:36.895929Z",
     "iopub.status.busy": "2022-11-09T22:18:36.895224Z",
     "iopub.status.idle": "2022-11-09T22:18:36.905200Z",
     "shell.execute_reply": "2022-11-09T22:18:36.903164Z"
    },
    "lines_to_next_cell": 2,
    "papermill": {
     "duration": 0.027284,
     "end_time": "2022-11-09T22:18:36.910236",
     "exception": false,
     "start_time": "2022-11-09T22:18:36.882952",
     "status": "completed"
    },
    "tags": []
   },
   "outputs": [],
   "source": [
    "# Add description here\n",
    "#\n",
    "# *Note:* You can open this file as a notebook (JupyterLab: right-click on it in the side bar -> Open With -> Notebook)"
   ]
  },
  {
   "cell_type": "code",
   "execution_count": 2,
   "id": "34e8fc2d",
   "metadata": {
    "execution": {
     "iopub.execute_input": "2022-11-09T22:18:36.926687Z",
     "iopub.status.busy": "2022-11-09T22:18:36.926114Z",
     "iopub.status.idle": "2022-11-09T22:18:36.937172Z",
     "shell.execute_reply": "2022-11-09T22:18:36.934934Z"
    },
    "papermill": {
     "duration": 0.024141,
     "end_time": "2022-11-09T22:18:36.941665",
     "exception": false,
     "start_time": "2022-11-09T22:18:36.917524",
     "status": "completed"
    },
    "tags": []
   },
   "outputs": [],
   "source": [
    "# Uncomment the next two lines to enable auto reloading for imported modules\n",
    "# %load_ext autoreload\n",
    "# %autoreload 2\n",
    "# For more info, see:\n",
    "# https://docs.ploomber.io/en/latest/user-guide/faq_index.html#auto-reloading-code-in-jupyter"
   ]
  },
  {
   "cell_type": "code",
   "execution_count": 3,
   "id": "4f237426",
   "metadata": {
    "execution": {
     "iopub.execute_input": "2022-11-09T22:18:36.964355Z",
     "iopub.status.busy": "2022-11-09T22:18:36.963585Z",
     "iopub.status.idle": "2022-11-09T22:18:36.985676Z",
     "shell.execute_reply": "2022-11-09T22:18:36.983511Z"
    },
    "lines_to_next_cell": 2,
    "papermill": {
     "duration": 0.041826,
     "end_time": "2022-11-09T22:18:36.990548",
     "exception": false,
     "start_time": "2022-11-09T22:18:36.948722",
     "status": "completed"
    },
    "tags": [
     "parameters"
    ]
   },
   "outputs": [],
   "source": [
    "# If this task has dependencies, list them them here\n",
    "# (e.g. upstream = ['some_task']), otherwise leave as None.\n",
    "upstream = ['data_fetch']\n",
    "\n",
    "# This is a placeholder, leave it as None\n",
    "product = None"
   ]
  },
  {
   "cell_type": "code",
   "execution_count": 4,
   "id": "7eb6ce8e",
   "metadata": {
    "execution": {
     "iopub.execute_input": "2022-11-09T22:18:37.009040Z",
     "iopub.status.busy": "2022-11-09T22:18:37.008409Z",
     "iopub.status.idle": "2022-11-09T22:18:37.018300Z",
     "shell.execute_reply": "2022-11-09T22:18:37.016044Z"
    },
    "papermill": {
     "duration": 0.024251,
     "end_time": "2022-11-09T22:18:37.023854",
     "exception": false,
     "start_time": "2022-11-09T22:18:36.999603",
     "status": "completed"
    },
    "tags": [
     "injected-parameters"
    ]
   },
   "outputs": [],
   "source": [
    "# Parameters\n",
    "upstream = {\"data_fetch\": {\"nb\": \"/home/sidhantk/ploomberDemo/movieDemo/products/data_fetch.ipynb\", \"data\": \"/home/sidhantk/ploomberDemo/movieDemo/products/kafka_data.csv\"}}\n",
    "product = {\"nb\": \"/home/sidhantk/ploomberDemo/movieDemo/products/data_clean.ipynb\", \"data\": \"/home/sidhantk/ploomberDemo/movieDemo/products/clean_data.csv\"}\n"
   ]
  },
  {
   "cell_type": "code",
   "execution_count": 5,
   "id": "bfe2b3f9",
   "metadata": {
    "execution": {
     "iopub.execute_input": "2022-11-09T22:18:37.046059Z",
     "iopub.status.busy": "2022-11-09T22:18:37.045380Z",
     "iopub.status.idle": "2022-11-09T22:18:37.863510Z",
     "shell.execute_reply": "2022-11-09T22:18:37.860720Z"
    },
    "papermill": {
     "duration": 0.834149,
     "end_time": "2022-11-09T22:18:37.868659",
     "exception": false,
     "start_time": "2022-11-09T22:18:37.034510",
     "status": "completed"
    },
    "tags": []
   },
   "outputs": [],
   "source": [
    "import re\n",
    "import pandas as pd\n",
    "from collections import defaultdict\n",
    "import timeit\n",
    "import datetime\n",
    "# your code here..."
   ]
  },
  {
   "cell_type": "code",
   "execution_count": 6,
   "id": "d62a3b7f",
   "metadata": {
    "execution": {
     "iopub.execute_input": "2022-11-09T22:18:37.887923Z",
     "iopub.status.busy": "2022-11-09T22:18:37.887125Z",
     "iopub.status.idle": "2022-11-09T22:18:37.897525Z",
     "shell.execute_reply": "2022-11-09T22:18:37.894896Z"
    },
    "papermill": {
     "duration": 0.026328,
     "end_time": "2022-11-09T22:18:37.902218",
     "exception": false,
     "start_time": "2022-11-09T22:18:37.875890",
     "status": "completed"
    },
    "tags": []
   },
   "outputs": [],
   "source": [
    "def validate_datetime(date_text):\n",
    "    \"\"\" Returns True is date is a valid date \"\"\"\n",
    "    try:\n",
    "        datetime.datetime.strptime(date_text, '%Y-%m-%dT%H:%M:%S')\n",
    "        return True\n",
    "    except ValueError:\n",
    "        return False\n",
    "\n"
   ]
  },
  {
   "cell_type": "code",
   "execution_count": 7,
   "id": "1af45c3b",
   "metadata": {
    "execution": {
     "iopub.execute_input": "2022-11-09T22:18:37.920586Z",
     "iopub.status.busy": "2022-11-09T22:18:37.919938Z",
     "iopub.status.idle": "2022-11-09T22:18:37.933499Z",
     "shell.execute_reply": "2022-11-09T22:18:37.926496Z"
    },
    "papermill": {
     "duration": 0.027914,
     "end_time": "2022-11-09T22:18:37.938299",
     "exception": false,
     "start_time": "2022-11-09T22:18:37.910385",
     "status": "completed"
    },
    "tags": []
   },
   "outputs": [],
   "source": [
    "def validate_integer(user_id_text):\n",
    "    \"\"\" Returns True is string is a number > 0 \"\"\"\n",
    "    return user_id_text.isdigit()"
   ]
  },
  {
   "cell_type": "code",
   "execution_count": 8,
   "id": "8314b1fc",
   "metadata": {
    "execution": {
     "iopub.execute_input": "2022-11-09T22:18:37.965761Z",
     "iopub.status.busy": "2022-11-09T22:18:37.965059Z",
     "iopub.status.idle": "2022-11-09T22:18:37.980268Z",
     "shell.execute_reply": "2022-11-09T22:18:37.978075Z"
    },
    "papermill": {
     "duration": 0.035177,
     "end_time": "2022-11-09T22:18:37.985216",
     "exception": false,
     "start_time": "2022-11-09T22:18:37.950039",
     "status": "completed"
    },
    "tags": []
   },
   "outputs": [],
   "source": [
    "def validate_request(request_text):\n",
    "    if 'GET /data/m/' in request_text:\n",
    "\n",
    "        try :\n",
    "            parsed = re.split(\"\\/(.*)\\/(.*)\\/(.*)\\.\",request_text)\n",
    "            \n",
    "            # Check if movie watched minute is an integer > 0\n",
    "            if validate_integer(parsed[3]):\n",
    "                return True\n",
    "            else: \n",
    "                return False  \n",
    "\n",
    "        except:\n",
    "            return False\n",
    "\n",
    "\n",
    "    elif 'GET /rate/' in request_text:\n",
    "\n",
    "        try :\n",
    "            parsed = re.split(\"=\",re.split(\"\\/\",request_text)[2])\n",
    "            \n",
    "            # Check if rating is an integer\n",
    "            if validate_integer(parsed[1]) and 0<int(parsed[1])<=5:\n",
    "                return True\n",
    "            else: \n",
    "                return False \n",
    "\n",
    "        except:\n",
    "            return False      \n",
    "\n",
    "    else:\n",
    "        return False "
   ]
  },
  {
   "cell_type": "code",
   "execution_count": 9,
   "id": "d5504ff8",
   "metadata": {
    "execution": {
     "iopub.execute_input": "2022-11-09T22:18:38.045712Z",
     "iopub.status.busy": "2022-11-09T22:18:38.045039Z",
     "iopub.status.idle": "2022-11-09T22:18:38.065414Z",
     "shell.execute_reply": "2022-11-09T22:18:38.063260Z"
    },
    "papermill": {
     "duration": 0.038049,
     "end_time": "2022-11-09T22:18:38.070725",
     "exception": false,
     "start_time": "2022-11-09T22:18:38.032676",
     "status": "completed"
    },
    "tags": []
   },
   "outputs": [],
   "source": [
    "def data_quality_check(line):\n",
    "    # Number of data cols in the line\n",
    "    line_data = line.strip().split(\",\")\n",
    "    \n",
    "    if len(line_data) == 3:\n",
    "        \n",
    "        if validate_datetime(line_data[0]) and validate_integer(line_data[1]) \\\n",
    "        and validate_request(line_data[2]):\n",
    "            return True\n",
    "        else: \n",
    "            return False\n",
    "\n",
    "    elif len(line_data) == 25:\n",
    "\n",
    "        # Check for Error Status messages\n",
    "        if '200' not in line_data[3]:\n",
    "            return False\n",
    "        \n",
    "        if validate_datetime(line_data[0].split('.')[0]) and validate_integer(line_data[1]):\n",
    "            return True\n",
    "        else: \n",
    "            return False                 \n",
    "\n",
    "    else:\n",
    "        return False   "
   ]
  },
  {
   "cell_type": "code",
   "execution_count": 10,
   "id": "6f62c026",
   "metadata": {
    "execution": {
     "iopub.execute_input": "2022-11-09T22:18:38.093548Z",
     "iopub.status.busy": "2022-11-09T22:18:38.092905Z",
     "iopub.status.idle": "2022-11-09T22:18:38.134612Z",
     "shell.execute_reply": "2022-11-09T22:18:38.131959Z"
    },
    "papermill": {
     "duration": 0.064244,
     "end_time": "2022-11-09T22:18:38.142495",
     "exception": false,
     "start_time": "2022-11-09T22:18:38.078251",
     "status": "completed"
    },
    "tags": []
   },
   "outputs": [],
   "source": [
    "def data_clean(file_name):\n",
    "\n",
    "    start = timeit.default_timer()\n",
    "    curTimeStamp = datetime.datetime.now()\n",
    "    str_curTimeStamp = str(curTimeStamp.date())\n",
    "    dct1,dct2,dct3,idx1,idx2 = defaultdict(),{},{},0,0\n",
    "    # recs_path = f\"files/recs_{str_curTimeStamp}.csv\"\n",
    "    # watched_path = f\"files/watched_{str_curTimeStamp}.csv\"\n",
    "    # watched_rated_path = f\"files/watched_rated_{str_curTimeStamp}.csv\"\n",
    "    watched_path = product['data']\n",
    "    \n",
    "    \n",
    "    success_count, error_count = 0, 0\n",
    "\n",
    "    watch_cols = [\"userid\",\"movieid\",\"date\",\"time\",\"minutes\"]\n",
    "    rate_cols = [\"userid\",\"movieid\",\"date\",\"time\",\"rating\"]\n",
    "    recs_cols = [\"userid\",\"movielist\",\"date\",\"time\",\"latency\"]\n",
    "    \n",
    "    # Open kafka consumer file in read mode\n",
    "    with open(file_name, 'r') as fp:\n",
    "        for line in fp:\n",
    "            \n",
    "            # Quality Check\n",
    "            if data_quality_check(line) == False:\n",
    "                error_count+=1\n",
    "                continue\n",
    "            else: \n",
    "                success_count+=1\n",
    "\n",
    "            # watching\n",
    "            if 'GET /data/m/' in line:\n",
    "                # Simple parsing: date, time, userid\n",
    "                ts,user,log = line.strip().split(\",\")\n",
    "                day,time = ts.split(\"T\")\n",
    "\n",
    "                # parse system log to get <movieid> & <watching_minute>\n",
    "                parsed = re.split(\"\\/(.*)\\/(.*)\\/(.*)\\.\",log)\n",
    "                # print(parsed)\n",
    "                movie,minutes = parsed[2],parsed[3]\n",
    "\n",
    "                # (1) if we want to get all movie logs\n",
    "                # lst = [d,t,user,movieid,minutes]\n",
    "                # row_dict = dict(zip(watch_cols, lst))\n",
    "\n",
    "                # (2) if we want to keep only one record for each watching\n",
    "                ks = ','.join([user,movie,day])\n",
    "                vs = ','.join([time,minutes])\n",
    "\n",
    "                if ks not in dct1:\n",
    "                    dct1[ks] = vs\n",
    "                else:\n",
    "                    # get the duration of watching: keep the maximum number of minutes here\n",
    "                    if minutes > dct1.get(ks):\n",
    "                        dct1[ks] = vs\n",
    "            \n",
    "            # rating\n",
    "            if 'GET /rate/' in line:\n",
    "                # Simple parsing: date, time, userid\n",
    "                ts,user,log = line.strip().split(\",\")\n",
    "                day,time = ts.split(\"T\")\n",
    "\n",
    "                # parse system log to get <movieid> & <rating>\n",
    "                parsed = re.split(\"=\",re.split(\"\\/\",log)[2])\n",
    "                movieid,rating = parsed[0],parsed[1]\n",
    "\n",
    "                # append result to the dictionary\n",
    "                lst = [user,movieid,day,time,rating]\n",
    "                row_dict = dict(zip(rate_cols, lst))\n",
    "                dct2[idx1] = row_dict\n",
    "                idx1 += 1\n",
    "            \n",
    "            # recommendation\n",
    "            if 'recommendation request' in line:\n",
    "                # Simple parsing: date, time, userid, movielist, latency\n",
    "                data, recs_latency= line.strip().split(\", result: \")\n",
    "                ts,user,log,_ = data.strip().split(\",\")\n",
    "                lastCommaIndex = recs_latency.rfind(\",\")\n",
    "                recs = recs_latency[0: lastCommaIndex] \n",
    "                latency = recs_latency[lastCommaIndex + 1:]\n",
    "                day,time = ts.split(\"T\")\n",
    "                time_without_ms = time.split('.')[0]\n",
    "\n",
    "                # append result to the dictionary\n",
    "                lst = [user,recs,day,time_without_ms,latency]\n",
    "                row_dict = dict(zip(recs_cols, lst))\n",
    "                dct3[idx2] = row_dict\n",
    "                idx2 += 1\n",
    "                                    \n",
    "\n",
    "    values = [('{},{}'.format(key, value)).split(\",\") for key, value in dct1.items()]\n",
    "    watch_df = pd.DataFrame(values, columns = watch_cols)\n",
    "    rate_df = pd.DataFrame.from_dict(dct2, orient='index')\n",
    "    recs_df = pd.DataFrame.from_dict(dct3, orient='index')\n",
    "\n",
    "    # inner join two tables for user BOTH watched AND rated the movie\n",
    "    both_df = pd.merge(\n",
    "                    watch_df, \n",
    "                    rate_df, \n",
    "                    how=\"inner\", \n",
    "                    on=[\"userid\", \"movieid\"],\n",
    "                    suffixes=('_watch','_rate'))\n",
    "\n",
    "    # output to file if not test\n",
    "    if file_name != \"sample_test.log\":\n",
    "        # watch_df.to_csv(watched_path,sep=\",\",index=False)\n",
    "        # rate_df.to_csv(f\"files/rated_{str_curTimeStamp}.csv\",sep=\",\",index=False)\n",
    "        both_df.to_csv(watched_path, sep=\",\",index=False)\n",
    "        # recs_df.to_csv(recs_path, sep=\",\",index=False)\n",
    "\n",
    "    stop = timeit.default_timer()\n",
    "    print('Time: ', stop - start)\n",
    "\n",
    "    return success_count, error_count, watched_path"
   ]
  },
  {
   "cell_type": "code",
   "execution_count": 11,
   "id": "fb846350",
   "metadata": {
    "execution": {
     "iopub.execute_input": "2022-11-09T22:18:38.166525Z",
     "iopub.status.busy": "2022-11-09T22:18:38.165888Z",
     "iopub.status.idle": "2022-11-09T22:18:39.697312Z",
     "shell.execute_reply": "2022-11-09T22:18:39.695129Z"
    },
    "papermill": {
     "duration": 1.550455,
     "end_time": "2022-11-09T22:18:39.701830",
     "exception": false,
     "start_time": "2022-11-09T22:18:38.151375",
     "status": "completed"
    },
    "tags": []
   },
   "outputs": [
    {
     "name": "stdout",
     "output_type": "stream",
     "text": [
      "Time:  1.4888400817289948\n"
     ]
    },
    {
     "data": {
      "text/plain": [
       "(20385, 0, '/home/sidhantk/ploomberDemo/movieDemo/products/clean_data.csv')"
      ]
     },
     "execution_count": 11,
     "metadata": {},
     "output_type": "execute_result"
    }
   ],
   "source": [
    "data_clean(upstream['data_fetch']['data'])"
   ]
  },
  {
   "cell_type": "code",
   "execution_count": null,
   "id": "0e469ea6",
   "metadata": {
    "papermill": {
     "duration": 0.007994,
     "end_time": "2022-11-09T22:18:39.718452",
     "exception": false,
     "start_time": "2022-11-09T22:18:39.710458",
     "status": "completed"
    },
    "tags": []
   },
   "outputs": [],
   "source": []
  }
 ],
 "metadata": {
  "jupytext": {
   "text_representation": {
    "extension": ".py",
    "format_name": "percent",
    "format_version": "1.3",
    "jupytext_version": "1.14.1"
   }
  },
  "kernelspec": {
   "display_name": "Python 3 (ipykernel)",
   "language": "python",
   "name": "python3"
  },
  "language_info": {
   "codemirror_mode": {
    "name": "ipython",
    "version": 3
   },
   "file_extension": ".py",
   "mimetype": "text/x-python",
   "name": "python",
   "nbconvert_exporter": "python",
   "pygments_lexer": "ipython3",
   "version": "3.8.10"
  },
  "papermill": {
   "duration": 5.486309,
   "end_time": "2022-11-09T22:18:40.258292",
   "exception": null,
   "input_path": "/tmp/tmpdnf_hb4l.ipynb",
   "output_path": "/home/sidhantk/ploomberDemo/movieDemo/products/data_clean.ipynb",
   "parameters": {
    "product": {
     "data": "/home/sidhantk/ploomberDemo/movieDemo/products/clean_data.csv",
     "nb": "/home/sidhantk/ploomberDemo/movieDemo/products/data_clean.ipynb"
    },
    "upstream": {
     "data_fetch": {
      "data": "/home/sidhantk/ploomberDemo/movieDemo/products/kafka_data.csv",
      "nb": "/home/sidhantk/ploomberDemo/movieDemo/products/data_fetch.ipynb"
     }
    }
   },
   "start_time": "2022-11-09T22:18:34.771983"
  }
 },
 "nbformat": 4,
 "nbformat_minor": 5
}