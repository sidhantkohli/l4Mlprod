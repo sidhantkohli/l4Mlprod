{
 "cells": [
  {
   "cell_type": "code",
   "execution_count": 1,
   "id": "f4017a5f",
   "metadata": {
    "execution": {
     "iopub.execute_input": "2022-11-09T22:17:33.596599Z",
     "iopub.status.busy": "2022-11-09T22:17:33.595512Z",
     "iopub.status.idle": "2022-11-09T22:17:33.604309Z",
     "shell.execute_reply": "2022-11-09T22:17:33.602945Z"
    },
    "lines_to_next_cell": 2,
    "papermill": {
     "duration": 0.020954,
     "end_time": "2022-11-09T22:17:33.607360",
     "exception": false,
     "start_time": "2022-11-09T22:17:33.586406",
     "status": "completed"
    },
    "tags": []
   },
   "outputs": [],
   "source": [
    "# Add description here\n",
    "#\n",
    "# *Note:* You can open this file as a notebook (JupyterLab: right-click on it in the side bar -> Open With -> Notebook)"
   ]
  },
  {
   "cell_type": "code",
   "execution_count": 2,
   "id": "a9016993",
   "metadata": {
    "execution": {
     "iopub.execute_input": "2022-11-09T22:17:33.616717Z",
     "iopub.status.busy": "2022-11-09T22:17:33.615712Z",
     "iopub.status.idle": "2022-11-09T22:17:33.621046Z",
     "shell.execute_reply": "2022-11-09T22:17:33.619678Z"
    },
    "papermill": {
     "duration": 0.012568,
     "end_time": "2022-11-09T22:17:33.624074",
     "exception": false,
     "start_time": "2022-11-09T22:17:33.611506",
     "status": "completed"
    },
    "tags": []
   },
   "outputs": [],
   "source": [
    "# Uncomment the next two lines to enable auto reloading for imported modules\n",
    "# %load_ext autoreload\n",
    "# %autoreload 2\n",
    "# For more info, see:\n",
    "# https://docs.ploomber.io/en/latest/user-guide/faq_index.html#auto-reloading-code-in-jupyter"
   ]
  },
  {
   "cell_type": "code",
   "execution_count": 3,
   "id": "79b70894",
   "metadata": {
    "execution": {
     "iopub.execute_input": "2022-11-09T22:17:33.639091Z",
     "iopub.status.busy": "2022-11-09T22:17:33.638487Z",
     "iopub.status.idle": "2022-11-09T22:17:33.661206Z",
     "shell.execute_reply": "2022-11-09T22:17:33.659595Z"
    },
    "lines_to_next_cell": 2,
    "papermill": {
     "duration": 0.031844,
     "end_time": "2022-11-09T22:17:33.664676",
     "exception": false,
     "start_time": "2022-11-09T22:17:33.632832",
     "status": "completed"
    },
    "tags": [
     "parameters"
    ]
   },
   "outputs": [],
   "source": [
    "# If this task has dependencies, list them them here\n",
    "# (e.g. upstream = ['some_task']), otherwise leave as None.\n",
    "upstream = None\n",
    "\n",
    "# This is a placeholder, leave it as None\n",
    "product = None"
   ]
  },
  {
   "cell_type": "code",
   "execution_count": 4,
   "id": "c9c33105",
   "metadata": {
    "execution": {
     "iopub.execute_input": "2022-11-09T22:17:33.676709Z",
     "iopub.status.busy": "2022-11-09T22:17:33.673384Z",
     "iopub.status.idle": "2022-11-09T22:17:33.683012Z",
     "shell.execute_reply": "2022-11-09T22:17:33.681378Z"
    },
    "papermill": {
     "duration": 0.017996,
     "end_time": "2022-11-09T22:17:33.686315",
     "exception": false,
     "start_time": "2022-11-09T22:17:33.668319",
     "status": "completed"
    },
    "tags": [
     "injected-parameters"
    ]
   },
   "outputs": [],
   "source": [
    "# Parameters\n",
    "product = {\"nb\": \"/home/sidhantk/ploomberDemo/movieDemo/products/data_fetch.ipynb\", \"data\": \"/home/sidhantk/ploomberDemo/movieDemo/products/kafka_data.csv\"}\n"
   ]
  },
  {
   "cell_type": "code",
   "execution_count": 5,
   "id": "f929fb1e",
   "metadata": {
    "execution": {
     "iopub.execute_input": "2022-11-09T22:17:33.695904Z",
     "iopub.status.busy": "2022-11-09T22:17:33.695470Z",
     "iopub.status.idle": "2022-11-09T22:17:33.903152Z",
     "shell.execute_reply": "2022-11-09T22:17:33.901643Z"
    },
    "lines_to_next_cell": 2,
    "papermill": {
     "duration": 0.216257,
     "end_time": "2022-11-09T22:17:33.906362",
     "exception": false,
     "start_time": "2022-11-09T22:17:33.690105",
     "status": "completed"
    },
    "tags": []
   },
   "outputs": [],
   "source": [
    "# your code here...\n",
    "from os import path\n",
    "import sys, os\n",
    "from datetime import datetime\n",
    "from json import dumps, loads\n",
    "from time import sleep\n",
    "from random import randint\n",
    "import numpy as np\n",
    "from datetime import datetime, timedelta\n",
    "from kafka import KafkaConsumer, KafkaProducer"
   ]
  },
  {
   "cell_type": "code",
   "execution_count": 6,
   "id": "4fa489a0",
   "metadata": {
    "execution": {
     "iopub.execute_input": "2022-11-09T22:17:33.915920Z",
     "iopub.status.busy": "2022-11-09T22:17:33.915043Z",
     "iopub.status.idle": "2022-11-09T22:17:33.922258Z",
     "shell.execute_reply": "2022-11-09T22:17:33.920831Z"
    },
    "papermill": {
     "duration": 0.014778,
     "end_time": "2022-11-09T22:17:33.925101",
     "exception": false,
     "start_time": "2022-11-09T22:17:33.910323",
     "status": "completed"
    },
    "tags": []
   },
   "outputs": [],
   "source": [
    "topic = 'movielog2'\n",
    "def createConsumer(offset_reset):\n",
    "    # Create a consumer to read data from kafka\n",
    "    consumer = KafkaConsumer(\n",
    "        topic,\n",
    "        bootstrap_servers=['localhost:9092'],\n",
    "        # Read from the start of the topic; Default is latest\n",
    "        auto_offset_reset=offset_reset,\n",
    "        # auto_offset_reset='latest',\n",
    "        group_id='team2',\n",
    "        # Commit that an offset has been read\n",
    "        enable_auto_commit=True,\n",
    "        # How often to tell Kafka, an offset has been read\n",
    "        # auto_commit_interval_ms=1000\n",
    "    )\n",
    "    return consumer"
   ]
  },
  {
   "cell_type": "code",
   "execution_count": 7,
   "id": "53cff63b",
   "metadata": {
    "execution": {
     "iopub.execute_input": "2022-11-09T22:17:33.951779Z",
     "iopub.status.busy": "2022-11-09T22:17:33.950942Z",
     "iopub.status.idle": "2022-11-09T22:17:33.963113Z",
     "shell.execute_reply": "2022-11-09T22:17:33.961748Z"
    },
    "papermill": {
     "duration": 0.030882,
     "end_time": "2022-11-09T22:17:33.966008",
     "exception": false,
     "start_time": "2022-11-09T22:17:33.935126",
     "status": "completed"
    },
    "tags": []
   },
   "outputs": [],
   "source": [
    "def fetchDataKafka(log_file, offset_reset, consume_time):\n",
    "    try:\n",
    "        kafka_consumer = createConsumer(offset_reset=offset_reset)\n",
    "    except Exception as e:\n",
    "        print(e)\n",
    "        return False\n",
    "    print('Reading Kafka Broker')\n",
    "    end_time = datetime.now() + timedelta(seconds=consume_time)\n",
    "    for message in kafka_consumer:\n",
    "        message = message.value.decode('utf-8')\n",
    "        # Default message.value type is bytes!\n",
    "        os.system(f\"echo {message} >> {log_file}\")\n",
    "        if datetime.now() >= end_time:\n",
    "            break\n",
    "    return True"
   ]
  },
  {
   "cell_type": "code",
   "execution_count": 8,
   "id": "4478adb0",
   "metadata": {
    "execution": {
     "iopub.execute_input": "2022-11-09T22:17:33.977383Z",
     "iopub.status.busy": "2022-11-09T22:17:33.976566Z",
     "iopub.status.idle": "2022-11-09T22:18:34.111113Z",
     "shell.execute_reply": "2022-11-09T22:18:34.109236Z"
    },
    "papermill": {
     "duration": 60.15091,
     "end_time": "2022-11-09T22:18:34.120433",
     "exception": false,
     "start_time": "2022-11-09T22:17:33.969523",
     "status": "completed"
    },
    "tags": []
   },
   "outputs": [
    {
     "name": "stdout",
     "output_type": "stream",
     "text": [
      "Reading Kafka Broker\n"
     ]
    },
    {
     "data": {
      "text/plain": [
       "True"
      ]
     },
     "execution_count": 8,
     "metadata": {},
     "output_type": "execute_result"
    }
   ],
   "source": [
    "fetchDataKafka(product['data'], \"earliest\", 60)"
   ]
  },
  {
   "cell_type": "code",
   "execution_count": null,
   "id": "cc561cd6",
   "metadata": {
    "papermill": {
     "duration": 0.015214,
     "end_time": "2022-11-09T22:18:34.145428",
     "exception": false,
     "start_time": "2022-11-09T22:18:34.130214",
     "status": "completed"
    },
    "tags": []
   },
   "outputs": [],
   "source": []
  }
 ],
 "metadata": {
  "jupytext": {
   "text_representation": {
    "extension": ".py",
    "format_name": "percent",
    "format_version": "1.3",
    "jupytext_version": "1.14.1"
   }
  },
  "kernelspec": {
   "display_name": "Python 3 (ipykernel)",
   "language": "python",
   "name": "python3"
  },
  "language_info": {
   "codemirror_mode": {
    "name": "ipython",
    "version": 3
   },
   "file_extension": ".py",
   "mimetype": "text/x-python",
   "name": "python",
   "nbconvert_exporter": "python",
   "pygments_lexer": "ipython3",
   "version": "3.8.10"
  },
  "papermill": {
   "duration": 63.063472,
   "end_time": "2022-11-09T22:18:34.684813",
   "exception": null,
   "input_path": "/tmp/tmpgjrgbydp.ipynb",
   "output_path": "/home/sidhantk/ploomberDemo/movieDemo/products/data_fetch.ipynb",
   "parameters": {
    "product": {
     "data": "/home/sidhantk/ploomberDemo/movieDemo/products/kafka_data.csv",
     "nb": "/home/sidhantk/ploomberDemo/movieDemo/products/data_fetch.ipynb"
    }
   },
   "start_time": "2022-11-09T22:17:31.621341"
  }
 },
 "nbformat": 4,
 "nbformat_minor": 5
}